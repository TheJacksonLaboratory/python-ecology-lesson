{
 "cells": [
  {
   "cell_type": "markdown",
   "metadata": {},
   "source": [
    "## Automation using for loops and functions"
   ]
  },
  {
   "cell_type": "code",
   "execution_count": 1,
   "metadata": {
    "collapsed": true
   },
   "outputs": [],
   "source": [
    "# Need a list to be able to loop over\n",
    "\n",
    "# Toy example of what a kid might see at a zoo\n",
    "animals = ['lion', 'tiger', 'crocodile', 'vulture', 'hippo']"
   ]
  },
  {
   "cell_type": "code",
   "execution_count": 2,
   "metadata": {
    "collapsed": false
   },
   "outputs": [
    {
     "data": {
      "text/plain": [
       "['lion', 'tiger', 'crocodile', 'vulture', 'hippo']"
      ]
     },
     "execution_count": 2,
     "metadata": {},
     "output_type": "execute_result"
    }
   ],
   "source": [
    "animals"
   ]
  },
  {
   "cell_type": "markdown",
   "metadata": {},
   "source": [
    "### Challenge: instead of new-lines, have each animal separated with commas."
   ]
  },
  {
   "cell_type": "code",
   "execution_count": 8,
   "metadata": {
    "collapsed": false
   },
   "outputs": [
    {
     "name": "stdout",
     "output_type": "stream",
     "text": [
      "lion,tiger,crocodile,vulture,hippo,"
     ]
    }
   ],
   "source": [
    "for creature in animals:\n",
    "    print(creature, end=',')"
   ]
  },
  {
   "cell_type": "code",
   "execution_count": 10,
   "metadata": {
    "collapsed": false
   },
   "outputs": [],
   "source": [
    "', '.join(animals)\n",
    "\n",
    "sep = ', '\n",
    "?sep.join(animals)"
   ]
  },
  {
   "cell_type": "code",
   "execution_count": 4,
   "metadata": {
    "collapsed": true
   },
   "outputs": [
    {
     "name": "stdout",
     "output_type": "stream",
     "text": [
      "lion\n",
      "tiger\n",
      "crocodile\n"
     ]
    }
   ],
   "source": [
    "print('lion')\n",
    "print('tiger')\n",
    "print('crocodile')"
   ]
  },
  {
   "cell_type": "code",
   "execution_count": 5,
   "metadata": {
    "collapsed": true
   },
   "outputs": [],
   "source": [
    "?print"
   ]
  },
  {
   "cell_type": "code",
   "execution_count": 11,
   "metadata": {
    "collapsed": false
   },
   "outputs": [
    {
     "data": {
      "text/plain": [
       "'/home/instructor'"
      ]
     },
     "execution_count": 11,
     "metadata": {},
     "output_type": "execute_result"
    }
   ],
   "source": [
    "# Back to the real data!\n",
    "\n",
    "import os\n",
    "os.getcwd()"
   ]
  },
  {
   "cell_type": "code",
   "execution_count": 12,
   "metadata": {
    "collapsed": true
   },
   "outputs": [],
   "source": [
    "# Let's create the directories to save our data\n",
    "os.mkdir('data')"
   ]
  },
  {
   "cell_type": "code",
   "execution_count": 14,
   "metadata": {
    "collapsed": false
   },
   "outputs": [
    {
     "ename": "FileExistsError",
     "evalue": "[Errno 17] File exists: 'data/yearly_files'",
     "output_type": "error",
     "traceback": [
      "\u001b[0;31m---------------------------------------------------------------------------\u001b[0m",
      "\u001b[0;31mFileExistsError\u001b[0m                           Traceback (most recent call last)",
      "\u001b[0;32m<ipython-input-14-92fb264d3999>\u001b[0m in \u001b[0;36m<module>\u001b[0;34m()\u001b[0m\n\u001b[0;32m----> 1\u001b[0;31m \u001b[0mos\u001b[0m\u001b[0;34m.\u001b[0m\u001b[0mmkdir\u001b[0m\u001b[0;34m(\u001b[0m\u001b[0;34m'data/yearly_files'\u001b[0m\u001b[0;34m)\u001b[0m\u001b[0;34m\u001b[0m\u001b[0m\n\u001b[0m",
      "\u001b[0;31mFileExistsError\u001b[0m: [Errno 17] File exists: 'data/yearly_files'"
     ]
    }
   ],
   "source": [
    "os.mkdir('data/yearly_files')"
   ]
  },
  {
   "cell_type": "code",
   "execution_count": 24,
   "metadata": {
    "collapsed": false
   },
   "outputs": [
    {
     "data": {
      "text/plain": [
       "['surveys2002.csv']"
      ]
     },
     "execution_count": 24,
     "metadata": {},
     "output_type": "execute_result"
    }
   ],
   "source": [
    "os.listdir('data/yearly_files/')"
   ]
  },
  {
   "cell_type": "code",
   "execution_count": 18,
   "metadata": {
    "collapsed": false
   },
   "outputs": [],
   "source": [
    "# Now that we have a place to store our results\n",
    "# We can read in the data\n",
    "import pandas as pd\n",
    "\n",
    "surveys_df = pd.read_csv(\"https://ndownloader.figshare.com/files/2292172\",\n",
    "\n",
    "                             keep_default_na=False, na_values=[\"\"])"
   ]
  },
  {
   "cell_type": "code",
   "execution_count": 22,
   "metadata": {
    "collapsed": false
   },
   "outputs": [],
   "source": [
    "surveys2002 = surveys_df[surveys_df[\"year\"] == 2002]"
   ]
  },
  {
   "cell_type": "code",
   "execution_count": 23,
   "metadata": {
    "collapsed": true
   },
   "outputs": [],
   "source": [
    "surveys2002.to_csv('data/yearly_files/surveys2002.csv')"
   ]
  },
  {
   "cell_type": "markdown",
   "metadata": {},
   "source": [
    "## We saved one year manually.  Let's create a for loop to do save all years"
   ]
  },
  {
   "cell_type": "code",
   "execution_count": 26,
   "metadata": {
    "collapsed": false
   },
   "outputs": [
    {
     "data": {
      "text/plain": [
       "array([1977, 1978, 1979, 1980, 1981, 1982, 1983, 1984, 1985, 1986, 1987,\n",
       "       1988, 1989, 1990, 1991, 1992, 1993, 1994, 1995, 1996, 1997, 1998,\n",
       "       1999, 2000, 2001, 2002])"
      ]
     },
     "execution_count": 26,
     "metadata": {},
     "output_type": "execute_result"
    }
   ],
   "source": [
    "surveys_df[\"year\"].unique()"
   ]
  },
  {
   "cell_type": "code",
   "execution_count": 27,
   "metadata": {
    "collapsed": false
   },
   "outputs": [
    {
     "name": "stdout",
     "output_type": "stream",
     "text": [
      "data/yearly_files/surveys1977.csv\n",
      "data/yearly_files/surveys1978.csv\n",
      "data/yearly_files/surveys1979.csv\n",
      "data/yearly_files/surveys1980.csv\n",
      "data/yearly_files/surveys1981.csv\n",
      "data/yearly_files/surveys1982.csv\n",
      "data/yearly_files/surveys1983.csv\n",
      "data/yearly_files/surveys1984.csv\n",
      "data/yearly_files/surveys1985.csv\n",
      "data/yearly_files/surveys1986.csv\n",
      "data/yearly_files/surveys1987.csv\n",
      "data/yearly_files/surveys1988.csv\n",
      "data/yearly_files/surveys1989.csv\n",
      "data/yearly_files/surveys1990.csv\n",
      "data/yearly_files/surveys1991.csv\n",
      "data/yearly_files/surveys1992.csv\n",
      "data/yearly_files/surveys1993.csv\n",
      "data/yearly_files/surveys1994.csv\n",
      "data/yearly_files/surveys1995.csv\n",
      "data/yearly_files/surveys1996.csv\n",
      "data/yearly_files/surveys1997.csv\n",
      "data/yearly_files/surveys1998.csv\n",
      "data/yearly_files/surveys1999.csv\n",
      "data/yearly_files/surveys2000.csv\n",
      "data/yearly_files/surveys2001.csv\n",
      "data/yearly_files/surveys2002.csv\n"
     ]
    }
   ],
   "source": [
    "# Don't save data yet, let's see what the file names look like\n",
    "for year in surveys_df[\"year\"].unique():\n",
    "    filename = 'data/yearly_files/surveys' + str(year) + '.csv'\n",
    "    print(filename)"
   ]
  },
  {
   "cell_type": "code",
   "execution_count": 28,
   "metadata": {
    "collapsed": true
   },
   "outputs": [],
   "source": [
    "# Let's improve the loop to save files\n",
    "for year in surveys_df[\"year\"].unique():\n",
    "    # Subset the year's data from our full set\n",
    "    surveys_year = surveys_df[surveys_df[\"year\"] == year]\n",
    "    # Create the filename to save the data\n",
    "    filename = 'data/yearly_files/surveys' + str(year) + '.csv'\n",
    "    # Save the data!\n",
    "    surveys_year.to_csv(filename)"
   ]
  },
  {
   "cell_type": "code",
   "execution_count": 29,
   "metadata": {
    "collapsed": true
   },
   "outputs": [
    {
     "data": {
      "text/plain": [
       "['surveys1990.csv',\n",
       " 'surveys1983.csv',\n",
       " 'surveys1994.csv',\n",
       " 'surveys1986.csv',\n",
       " 'surveys1997.csv',\n",
       " 'surveys1988.csv',\n",
       " 'surveys2000.csv',\n",
       " 'surveys1979.csv',\n",
       " 'surveys1999.csv',\n",
       " 'surveys1995.csv',\n",
       " 'surveys1993.csv',\n",
       " 'surveys1982.csv',\n",
       " 'surveys1978.csv',\n",
       " 'surveys1985.csv',\n",
       " 'surveys1981.csv',\n",
       " 'surveys2002.csv',\n",
       " 'surveys1977.csv',\n",
       " 'surveys1992.csv',\n",
       " 'surveys1991.csv',\n",
       " 'surveys1987.csv',\n",
       " 'surveys1998.csv',\n",
       " 'surveys1989.csv',\n",
       " 'surveys1996.csv',\n",
       " 'surveys2001.csv',\n",
       " 'surveys1984.csv',\n",
       " 'surveys1980.csv']"
      ]
     },
     "execution_count": 29,
     "metadata": {},
     "output_type": "execute_result"
    }
   ],
   "source": [
    "# Let's verify we created all the files\n",
    "os.listdir('data/yearly_files/')"
   ]
  },
  {
   "cell_type": "code",
   "execution_count": 31,
   "metadata": {
    "collapsed": true
   },
   "outputs": [],
   "source": [
    "# Save by species instead of years\n",
    "for species in surveys_df[\"species_id\"].unique():\n",
    "    # Subset the year's data from our full set\n",
    "    surveys_species = surveys_df[surveys_df[\"species_id\"] == species]\n",
    "    # Create the filename to save the data\n",
    "    filename = 'data/species_files/surveys' + str(species) + '.csv'\n",
    "    # Save the data!\n",
    "    surveys_species.to_csv(filename)"
   ]
  },
  {
   "cell_type": "code",
   "execution_count": 32,
   "metadata": {
    "collapsed": true
   },
   "outputs": [
    {
     "data": {
      "text/plain": [
       "['surveysDX.csv',\n",
       " 'surveysAB.csv',\n",
       " 'surveysRX.csv',\n",
       " 'surveysDM.csv',\n",
       " 'surveysDS.csv',\n",
       " 'surveysSF.csv',\n",
       " 'surveysPL.csv',\n",
       " 'surveysCU.csv',\n",
       " 'surveysCB.csv',\n",
       " 'surveysPE.csv',\n",
       " 'surveysCT.csv',\n",
       " 'surveysZL.csv',\n",
       " 'surveysPB.csv',\n",
       " 'surveysPG.csv',\n",
       " 'surveysPX.csv',\n",
       " 'surveysSS.csv',\n",
       " 'surveysUR.csv',\n",
       " 'surveysPM.csv',\n",
       " 'surveysUP.csv',\n",
       " 'surveysUL.csv',\n",
       " 'surveysPF.csv',\n",
       " 'surveysST.csv',\n",
       " 'surveysPU.csv',\n",
       " 'surveysCM.csv',\n",
       " 'surveysAS.csv',\n",
       " 'surveysSC.csv',\n",
       " 'surveysNL.csv',\n",
       " 'surveysRM.csv',\n",
       " 'surveysSU.csv',\n",
       " 'surveysAH.csv',\n",
       " 'surveysPP.csv',\n",
       " 'surveysOL.csv',\n",
       " 'surveysOX.csv',\n",
       " 'surveysSA.csv',\n",
       " 'surveysDO.csv',\n",
       " 'surveysCQ.csv',\n",
       " 'surveysSH.csv',\n",
       " 'surveysCS.csv',\n",
       " 'surveysCV.csv',\n",
       " 'surveysnan.csv',\n",
       " 'surveysPI.csv',\n",
       " 'surveysPC.csv',\n",
       " 'surveysUS.csv',\n",
       " 'surveysSO.csv',\n",
       " 'surveysOT.csv',\n",
       " 'surveysRO.csv',\n",
       " 'surveysPH.csv',\n",
       " 'surveysRF.csv',\n",
       " 'surveysBA.csv']"
      ]
     },
     "execution_count": 32,
     "metadata": {},
     "output_type": "execute_result"
    }
   ],
   "source": [
    "os.listdir('data/species_files/')"
   ]
  },
  {
   "cell_type": "code",
   "execution_count": 30,
   "metadata": {
    "collapsed": true
   },
   "outputs": [],
   "source": [
    "os.mkdir('data/species_files')"
   ]
  },
  {
   "cell_type": "markdown",
   "metadata": {},
   "source": [
    "## Functions: make your code reusable and modular"
   ]
  },
  {
   "cell_type": "code",
   "execution_count": 38,
   "metadata": {
    "collapsed": true
   },
   "outputs": [],
   "source": [
    "# Toy example function\n",
    "\n",
    "def multiply(input1, input2):\n",
    "    # Print the 2 input arguments before doing anything.\n",
    "    print(\"The function arguments are:\", input1, input2)\n",
    "    x = input1 * input2\n",
    "    print(x)\n",
    "    x"
   ]
  },
  {
   "cell_type": "code",
   "execution_count": 39,
   "metadata": {
    "collapsed": false
   },
   "outputs": [
    {
     "name": "stdout",
     "output_type": "stream",
     "text": [
      "The function arguments are: 2 5\n",
      "10\n",
      "The result is None\n"
     ]
    }
   ],
   "source": [
    "# Let's run our shiny new function!\n",
    "result = multiply(2, 5)\n",
    "print(\"The result is\", result)"
   ]
  },
  {
   "cell_type": "markdown",
   "metadata": {},
   "source": [
    "# Functions on the real data"
   ]
  },
  {
   "cell_type": "markdown",
   "metadata": {},
   "source": [
    "- One function will save a file for one year.\n",
    "- The other function will loop over the years and call our previous function."
   ]
  },
  {
   "cell_type": "code",
   "execution_count": 70,
   "metadata": {
    "collapsed": true
   },
   "outputs": [],
   "source": [
    "# Function to save a file\n",
    "def one_year_csv_writer(this_year, all_data):\n",
    "    \"\"\"\n",
    "    Writes a CSV file for data from a given year\n",
    "    \n",
    "    this_year --- year for which data is extracted\n",
    "    all_data ---- DataFrame with multi-year data\n",
    "    \"\"\"\n",
    "    \n",
    "    # Select data for the one year\n",
    "    surveys_year = all_data[all_data[\"year\"] == this_year]\n",
    "    \n",
    "    if 'yearly_files' in os.listdir('data/'):\n",
    "        print('Processed directory exists')\n",
    "    else:\n",
    "        os.mkdir('data/yearly_files')\n",
    "        print('Processed directory created')\n",
    "    \n",
    "    # Write the new DataFrame to a CSV file\n",
    "    filename = 'data/yearly_files/function_surveys' + str(this_year) + '.csv'\n",
    "    surveys_year.to_csv(filename)\n",
    "    print(filename)"
   ]
  },
  {
   "cell_type": "code",
   "execution_count": 69,
   "metadata": {
    "collapsed": false
   },
   "outputs": [
    {
     "data": {
      "text/plain": [
       "['yearly_files', 'species_files']"
      ]
     },
     "execution_count": 69,
     "metadata": {},
     "output_type": "execute_result"
    }
   ],
   "source": [
    "os.listdir('data/')"
   ]
  },
  {
   "cell_type": "code",
   "execution_count": 41,
   "metadata": {
    "collapsed": true
   },
   "outputs": [],
   "source": [
    "?one_year_csv_writer"
   ]
  },
  {
   "cell_type": "code",
   "execution_count": 42,
   "metadata": {
    "collapsed": true
   },
   "outputs": [],
   "source": [
    "# Run our new function\n",
    "one_year_csv_writer(2002, surveys_df)"
   ]
  },
  {
   "cell_type": "code",
   "execution_count": 43,
   "metadata": {
    "collapsed": true
   },
   "outputs": [
    {
     "data": {
      "text/plain": [
       "['surveys1990.csv',\n",
       " 'surveys1983.csv',\n",
       " 'surveys1994.csv',\n",
       " 'surveys1986.csv',\n",
       " 'surveys1997.csv',\n",
       " 'surveys1988.csv',\n",
       " 'surveys2000.csv',\n",
       " 'surveys1979.csv',\n",
       " 'surveys1999.csv',\n",
       " 'surveys1995.csv',\n",
       " 'surveys1993.csv',\n",
       " 'surveys1982.csv',\n",
       " 'surveys1978.csv',\n",
       " 'surveys1985.csv',\n",
       " 'surveys1981.csv',\n",
       " 'surveys2002.csv',\n",
       " 'surveys1977.csv',\n",
       " 'surveys1992.csv',\n",
       " 'function_surveys2002.csv',\n",
       " 'surveys1991.csv',\n",
       " 'surveys1987.csv',\n",
       " 'surveys1998.csv',\n",
       " 'surveys1989.csv',\n",
       " 'surveys1996.csv',\n",
       " 'surveys2001.csv',\n",
       " 'surveys1984.csv',\n",
       " 'surveys1980.csv']"
      ]
     },
     "execution_count": 43,
     "metadata": {},
     "output_type": "execute_result"
    }
   ],
   "source": [
    "# Check that our file was created\n",
    "os.listdir('data/yearly_files/')"
   ]
  },
  {
   "cell_type": "markdown",
   "metadata": {},
   "source": [
    "## (Lunch Break)"
   ]
  },
  {
   "cell_type": "code",
   "execution_count": 63,
   "metadata": {
    "collapsed": false
   },
   "outputs": [],
   "source": [
    "# Let's write our second function to write all the CSV files.\n",
    "\n",
    "def yearly_data_csv_writer(all_data, start_year = None, end_year = None):\n",
    "    '''\n",
    "    Writes separate CSV files for each year of data\n",
    "    \n",
    "    start_year --- the first year of data we want\n",
    "    end_year -- the last year of data we want\n",
    "    all_data --- DataFrame with multi-year data\n",
    "    '''\n",
    "    if not start_year:\n",
    "        start_year = all_data.year.min()\n",
    "    if not end_year:\n",
    "        end_year = all_data.year.max()\n",
    "    \n",
    "    # \"end_year\" is the last year we want, so add +1 to include it.\n",
    "    for year in range(start_year, end_year + 1):\n",
    "        one_year_csv_writer(year, all_data)"
   ]
  },
  {
   "cell_type": "code",
   "execution_count": 50,
   "metadata": {
    "collapsed": false
   },
   "outputs": [
    {
     "data": {
      "text/plain": [
       "[1980, 1982, 1984]"
      ]
     },
     "execution_count": 50,
     "metadata": {},
     "output_type": "execute_result"
    }
   ],
   "source": [
    "list(range(1980, 1985 + 1, 2))"
   ]
  },
  {
   "cell_type": "code",
   "execution_count": 51,
   "metadata": {
    "collapsed": true
   },
   "outputs": [],
   "source": [
    "# Run our final function!\n",
    "yearly_data_csv_writer(1977, 1980, surveys_df)"
   ]
  },
  {
   "cell_type": "code",
   "execution_count": 56,
   "metadata": {
    "collapsed": true
   },
   "outputs": [
    {
     "data": {
      "text/plain": [
       "['surveys1990.csv',\n",
       " 'function_surveys1984.csv',\n",
       " 'surveys1983.csv',\n",
       " 'surveys1994.csv',\n",
       " 'function_surveys1978.csv',\n",
       " 'surveys1986.csv',\n",
       " 'surveys1997.csv',\n",
       " 'function_surveys1980.csv',\n",
       " 'surveys1988.csv',\n",
       " 'surveys2000.csv',\n",
       " 'surveys1979.csv',\n",
       " 'surveys1999.csv',\n",
       " 'surveys1995.csv',\n",
       " 'surveys1993.csv',\n",
       " 'surveys1982.csv',\n",
       " 'function_surveys1979.csv',\n",
       " 'surveys1978.csv',\n",
       " 'surveys1985.csv',\n",
       " 'surveys1981.csv',\n",
       " 'surveys2002.csv',\n",
       " 'surveys1977.csv',\n",
       " 'surveys1992.csv',\n",
       " 'function_surveys2002.csv',\n",
       " 'surveys1991.csv',\n",
       " 'surveys1987.csv',\n",
       " 'surveys1998.csv',\n",
       " 'surveys1989.csv',\n",
       " 'surveys1996.csv',\n",
       " 'surveys2001.csv',\n",
       " 'surveys1984.csv',\n",
       " 'function_surveys1977.csv',\n",
       " 'surveys1980.csv']"
      ]
     },
     "execution_count": 56,
     "metadata": {},
     "output_type": "execute_result"
    }
   ],
   "source": [
    "# Check the output\n",
    "os.listdir('data/yearly_files/')"
   ]
  },
  {
   "cell_type": "markdown",
   "metadata": {},
   "source": [
    "## Challenge"
   ]
  },
  {
   "cell_type": "code",
   "execution_count": 60,
   "metadata": {
    "collapsed": false
   },
   "outputs": [
    {
     "name": "stdout",
     "output_type": "stream",
     "text": [
      "data/yearly_files/function_surveys1984.csv\n"
     ]
    }
   ],
   "source": [
    "# Only \n",
    "yearly_data_csv_writer(1984, 1984, surveys_df)"
   ]
  },
  {
   "cell_type": "code",
   "execution_count": 71,
   "metadata": {
    "collapsed": false
   },
   "outputs": [
    {
     "name": "stdout",
     "output_type": "stream",
     "text": [
      "Processed directory exists\n",
      "data/yearly_files/function_surveys2000.csv\n"
     ]
    }
   ],
   "source": [
    "yearly_data_csv_writer(surveys_df, start_year=2000, end_year=2000)"
   ]
  },
  {
   "cell_type": "code",
   "execution_count": 72,
   "metadata": {
    "collapsed": false
   },
   "outputs": [
    {
     "name": "stdout",
     "output_type": "stream",
     "text": [
      "Processed directory created\n",
      "data/yearly_files/function_surveys2000.csv\n"
     ]
    }
   ],
   "source": [
    "yearly_data_csv_writer(surveys_df, start_year=2000, end_year=2000)"
   ]
  },
  {
   "cell_type": "code",
   "execution_count": 66,
   "metadata": {
    "collapsed": true
   },
   "outputs": [
    {
     "name": "stdout",
     "output_type": "stream",
     "text": [
      "data/yearly_files/function_surveys1977.csv\n",
      "data/yearly_files/function_surveys1978.csv\n",
      "data/yearly_files/function_surveys1979.csv\n",
      "data/yearly_files/function_surveys1980.csv\n",
      "data/yearly_files/function_surveys1981.csv\n",
      "data/yearly_files/function_surveys1982.csv\n",
      "data/yearly_files/function_surveys1983.csv\n",
      "data/yearly_files/function_surveys1984.csv\n"
     ]
    }
   ],
   "source": [
    "yearly_data_csv_writer(surveys_df, end_year=1984)"
   ]
  }
 ],
 "metadata": {
  "kernelspec": {
   "display_name": "Python 3",
   "language": "python",
   "name": "python3"
  },
  "language_info": {
   "codemirror_mode": {
    "name": "ipython",
    "version": 3
   },
   "file_extension": ".py",
   "mimetype": "text/x-python",
   "name": "python",
   "nbconvert_exporter": "python",
   "pygments_lexer": "ipython3",
   "version": "3.4.5"
  }
 },
 "nbformat": 4,
 "nbformat_minor": 0
}
